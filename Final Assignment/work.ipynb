{
 "cells": [
  {
   "cell_type": "markdown",
   "metadata": {},
   "source": [
    "# Preliminary\n",
    "- get `sc` and `spark` object"
   ]
  },
  {
   "cell_type": "code",
   "execution_count": null,
   "metadata": {},
   "outputs": [],
   "source": [
    "from pyspark import SparkConf, SparkContext\n",
    "from pyspark.sql import SparkSession\n",
    "from pyspark.sql.functions import col\n",
    "sc = SparkContext(conf=SparkConf())\n",
    "spark = SparkSession.builder.master(\"local[*]\").appName(\"FirstApp\").getOrCreate()"
   ]
  },
  {
   "cell_type": "markdown",
   "metadata": {},
   "source": [
    "# Calculate\n",
    "\n",
    "> map the `RDD`, use `RDD.sortByKey()` for sorted list and get the middle number(s)\n",
    "\n",
    "- open file\n",
    "- split string and transform them into floats\n",
    "- map data\n",
    "- sort data\n",
    "- find the middle number"
   ]
  },
  {
   "cell_type": "code",
   "execution_count": null,
   "metadata": {},
   "outputs": [],
   "source": [
    "file = open(\"hdfs://master:9000/sparkdata/data1.txt\")"
   ]
  },
  {
   "cell_type": "code",
   "execution_count": null,
   "metadata": {},
   "outputs": [],
   "source": [
    "dataStrList = file.read().split(',')"
   ]
  },
  {
   "cell_type": "code",
   "execution_count": null,
   "metadata": {},
   "outputs": [],
   "source": [
    "dataFloatList = []\n",
    "for i in dataStrList:\n",
    "    dataFloatList.append(float(i))"
   ]
  },
  {
   "cell_type": "code",
   "execution_count": null,
   "metadata": {},
   "outputs": [],
   "source": [
    "data = sc.parallelize(dataFloatList)\n",
    "dataMapped = data.map(lambda x: (x, x))\n",
    "dataSorted = dataMapped.sortByKey(lambda x: x[0]).keys()\n",
    "N = dataSorted.count()"
   ]
  },
  {
   "cell_type": "code",
   "execution_count": null,
   "metadata": {},
   "outputs": [],
   "source": [
    "if N % 2 == 0:\n",
    "    preHalfList = dataSorted.take(N / 2 + 1)\n",
    "    avg = (preHalfList[-1] + preHalfList[-2]) / 2\n",
    "else:\n",
    "    avg = dataSorted.take(N / 2 + 1)[-1]"
   ]
  },
  {
   "cell_type": "code",
   "execution_count": null,
   "metadata": {},
   "outputs": [],
   "source": [
    "avg"
   ]
  },
  {
   "cell_type": "markdown",
   "metadata": {},
   "source": [
    "# Varification\n",
    "- count the amounts of BIGGER and SMALLER numbers\n",
    "\n",
    "> - `cntM`: Bigger\n",
    "> - `cntN`: Smaller\n",
    "\n",
    "- if `cntM == cntN` then the median is correct"
   ]
  },
  {
   "cell_type": "code",
   "execution_count": null,
   "metadata": {},
   "outputs": [],
   "source": [
    "cntM = 0\n",
    "cntN = 0\n",
    "dataSortedList = dataSorted.collect()\n",
    "for i in dataSortedList:\n",
    "    if (i >= avg):\n",
    "        cntM += 1\n",
    "    else:\n",
    "        cntN +=1\n",
    "cntM, cntN, cntM == cntN"
   ]
  },
  {
   "cell_type": "code",
   "execution_count": null,
   "metadata": {},
   "outputs": [],
   "source": []
  }
 ],
 "metadata": {
  "language_info": {
   "codemirror_mode": {
    "name": "ipython",
    "version": 3
   },
   "file_extension": ".py",
   "mimetype": "text/x-python",
   "name": "python",
   "nbconvert_exporter": "python",
   "pygments_lexer": "ipython3",
   "version": "3.6.8-final"
  },
  "orig_nbformat": 2,
  "kernelspec": {
   "name": "python36864bit2eb17439148c485399fa2f77fed1b772",
   "display_name": "Python 3.6.8 64-bit"
  }
 },
 "nbformat": 4,
 "nbformat_minor": 2
}