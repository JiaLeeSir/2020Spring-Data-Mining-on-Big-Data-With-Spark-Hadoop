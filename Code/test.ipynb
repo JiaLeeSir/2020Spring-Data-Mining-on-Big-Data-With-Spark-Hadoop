{
 "cells": [
  {
   "cell_type": "code",
   "execution_count": 2,
   "metadata": {},
   "outputs": [],
   "source": [
    "from pyspark import SparkConf, SparkContext\n",
    "from pyspark.sql import SparkSession\n",
    "from pyspark.sql.functions import col\n",
    "sc = SparkContext(conf=SparkConf())\n",
    "spark = SparkSession.builder.master(\"local[*]\").appName(\"FiratApp\").getOrCreate()"
   ]
  },
  {
   "cell_type": "code",
   "execution_count": 3,
   "metadata": {},
   "outputs": [
    {
     "output_type": "stream",
     "name": "stdout",
     "text": "+---+-------+\n|age|   name|\n+---+-------+\n| 30|Michael|\n| 30|   Andy|\n| 19| Justin|\n| 18|   John|\n+---+-------+\n\n"
    }
   ],
   "source": [
    "people_df = spark.read.json(\"./people.json\")\n",
    "people_df.show()"
   ]
  },
  {
   "cell_type": "code",
   "execution_count": 7,
   "metadata": {},
   "outputs": [],
   "source": [
    "peopleDF = spark.read.format(\"json\").load(\"./people.json\")"
   ]
  },
  {
   "cell_type": "code",
   "execution_count": 9,
   "metadata": {},
   "outputs": [
    {
     "output_type": "stream",
     "name": "stdout",
     "text": "root\n |-- age: long (nullable = true)\n |-- name: string (nullable = true)\n\n"
    }
   ],
   "source": [
    "peopleDF.printSchema()"
   ]
  },
  {
   "cell_type": "code",
   "execution_count": 10,
   "metadata": {},
   "outputs": [
    {
     "output_type": "stream",
     "name": "stdout",
     "text": "+---+-------+\n|age|   name|\n+---+-------+\n| 30|Michael|\n| 30|   Andy|\n+---+-------+\n\n"
    }
   ],
   "source": [
    "peopleDF.filter(peopleDF.age>20).show()"
   ]
  },
  {
   "cell_type": "code",
   "execution_count": 11,
   "metadata": {},
   "outputs": [
    {
     "output_type": "stream",
     "name": "stdout",
     "text": "+---+-----+\n|age|count|\n+---+-----+\n| 19|    1|\n| 18|    1|\n| 30|    2|\n+---+-----+\n\n"
    }
   ],
   "source": [
    "peopleDF.groupBy(peopleDF.age).count().show()"
   ]
  },
  {
   "cell_type": "code",
   "execution_count": null,
   "metadata": {},
   "outputs": [],
   "source": []
  }
 ],
 "metadata": {
  "language_info": {
   "name": "python",
   "codemirror_mode": {
    "name": "ipython",
    "version": 3
   },
   "version": "3.6.8-final"
  },
  "orig_nbformat": 2,
  "file_extension": ".py",
  "mimetype": "text/x-python",
  "name": "python",
  "npconvert_exporter": "python",
  "pygments_lexer": "ipython3",
  "version": 3,
  "kernelspec": {
   "name": "python36864bitpython36condae27ac4404c2346e38b04567e90758994",
   "display_name": "Python 3.6.8 64-bit ('python36': conda)"
  }
 },
 "nbformat": 4,
 "nbformat_minor": 2
}