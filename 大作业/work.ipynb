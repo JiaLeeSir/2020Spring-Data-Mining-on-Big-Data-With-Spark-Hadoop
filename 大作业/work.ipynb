{
 "cells": [
  {
   "cell_type": "code",
   "execution_count": null,
   "metadata": {},
   "outputs": [],
   "source": [
    "from pyspark import SparkConf, SparkContext\n",
    "from pyspark.sql import SparkSession\n",
    "from pyspark.sql.functions import col\n",
    "sc = SparkContext(conf=SparkConf())\n",
    "spark = SparkSession.builder.master(\"local[*]\").appName(\"FirsstApp\").getOrCreate()"
   ]
  },
  {
   "cell_type": "code",
   "execution_count": null,
   "metadata": {},
   "outputs": [],
   "source": [
    "file = open(\"hdfs://master:9000/sparkdata/data1.txt\")"
   ]
  },
  {
   "cell_type": "code",
   "execution_count": null,
   "metadata": {},
   "outputs": [],
   "source": [
    "dataStrList = file.read().split(',')\n",
    "dataFloatList = []\n",
    "for i in dataStrList:\n",
    "    dataFloatList.append(float(i))\n",
    "data = sc.parallelize(dataFloatList)\n",
    "dataSorted = data.sortBy(ascending=False)"
   ]
  },
  {
   "cell_type": "code",
   "execution_count": null,
   "metadata": {},
   "outputs": [],
   "source": []
  }
 ],
 "metadata": {
  "language_info": {
   "codemirror_mode": {
    "name": "ipython",
    "version": 3
   },
   "file_extension": ".py",
   "mimetype": "text/x-python",
   "name": "python",
   "nbconvert_exporter": "python",
   "pygments_lexer": "ipython3",
   "version": "3.6.8-final"
  },
  "orig_nbformat": 2,
  "kernelspec": {
   "name": "python36864bit2eb17439148c485399fa2f77fed1b772",
   "display_name": "Python 3.6.8 64-bit"
  }
 },
 "nbformat": 4,
 "nbformat_minor": 2
}